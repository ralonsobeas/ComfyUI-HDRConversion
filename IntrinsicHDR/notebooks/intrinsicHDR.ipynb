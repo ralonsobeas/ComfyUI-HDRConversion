{
 "cells": [
  {
   "cell_type": "markdown",
   "metadata": {},
   "source": [
    "# Intrinsic Single-Image HDR Reconstruction\n",
    "\n",
    "This Colab Notebook helps you testing the HDR reconstruction method \n",
    "introduced in our ECCV 2024 paper \"Intrinsic Single-Image HDR Reconstruction\".\n",
    "\n",
    "Instructions:\n",
    "\n",
    "1. Ensure using a GPU by setting \"Runtime/change runtime type\" to GPU.\n",
    "2. Install the repository.\n",
    "3. Read the example image or **put your own LDR images into './images'**. \n",
    "4. Convert the image to linear RGB.\n",
    "5. Run our HDR reconstruction pipeline.\n",
    "6. [optional] Download the result as EXR file."
   ]
  },
  {
   "cell_type": "code",
   "execution_count": null,
   "metadata": {},
   "outputs": [],
   "source": [
    "# set tensorflow version to 2.10 for linearization baseline\n",
    "!pip install --upgrade \"tensorflow<=2.10\""
   ]
  },
  {
   "cell_type": "code",
   "execution_count": null,
   "metadata": {},
   "outputs": [],
   "source": [
    "# Clone the repository.\n",
    "!git clone https://github.com/compphoto/IntrinsicHDR\n",
    "%cd IntrinsicHDR\n"
   ]
  },
  {
   "cell_type": "code",
   "execution_count": null,
   "metadata": {},
   "outputs": [],
   "source": [
    "# Install the dependencies.\n",
    "!pip install pytorch_lightning kornia"
   ]
  },
  {
   "cell_type": "code",
   "execution_count": null,
   "metadata": {},
   "outputs": [],
   "source": [
    "# imports\n",
    "import tensorflow.compat.v1 as tf\n",
    "import torch\n",
    "from matplotlib import pyplot as plt\n",
    "from IntrinsicHDR.intrinsic_decomposition.common.model_util import load_models\n",
    "from IntrinsicHDR.dequantize_and_linearize import build_session, build_graph, dequantize_and_linearize\n",
    "from IntrinsicHDR.inference import load_reconstruction_models, intrinsic_hdr\n",
    "from IntrinsicHDR.src.utils import read_ldr_image, tonemap"
   ]
  },
  {
   "cell_type": "code",
   "execution_count": null,
   "metadata": {},
   "outputs": [],
   "source": [
    "DEVICE = torch.device('cuda' if torch.cuda.is_available() else 'cpu')"
   ]
  },
  {
   "cell_type": "code",
   "execution_count": null,
   "metadata": {},
   "outputs": [],
   "source": [
    "# load the image to run through the pipeline\n",
    "img = read_ldr_image('./images/input/sunset_forest.jpg')"
   ]
  },
  {
   "cell_type": "markdown",
   "metadata": {},
   "source": [
    "First, convert the image to linear RGB:"
   ]
  },
  {
   "cell_type": "code",
   "execution_count": null,
   "metadata": {},
   "outputs": [],
   "source": [
    "# download pretrained weights\n",
    "!wget https://github.com/compphoto/IntrinsicHDR/releases/download/v1.0/model.ckpt.data-00000-of-00001\n",
    "!wget https://github.com/compphoto/IntrinsicHDR/releases/download/v1.0/model.ckpt.index \n",
    "!wget https://github.com/compphoto/IntrinsicHDR/releases/download/v1.0/model.ckpt.meta\n",
    "\n",
    "!mkdir -p ./baselines/SingleHDR/checkpoints\n",
    "\n",
    "!mv model.ckpt.* ./baselines/SingleHDR/checkpoints/.\n"
   ]
  },
  {
   "cell_type": "code",
   "execution_count": null,
   "metadata": {},
   "outputs": [],
   "source": [
    "# build Tensorflow graph\n",
    "ldr = tf.placeholder(tf.float32, [None, None, None, 3])\n",
    "is_training = tf.placeholder(tf.bool)\n",
    "graph  = build_graph(ldr,is_training)\n",
    "\n",
    "# root directory\n",
    "root = '.'\n",
    "\n",
    "# run the session\n",
    "with build_session(root) as sess:\n",
    "    img_lin = dequantize_and_linearize(img,sess,graph,ldr,is_training)"
   ]
  },
  {
   "cell_type": "markdown",
   "metadata": {},
   "source": [
    "Now, reconstruct the HDR image from the linearized input:"
   ]
  },
  {
   "cell_type": "code",
   "execution_count": null,
   "metadata": {},
   "outputs": [],
   "source": [
    "# load the intrinsic decomposition models\n",
    "decomp_models = load_models(\n",
    "    ord_path='vivid_bird_318_300.pt',\n",
    "    mrg_path='fluent_eon_138_200.pt',\n",
    "    device = DEVICE\n",
    ")\n",
    "\n",
    "weights_url = 'https://github.com/compphoto/IntrinsicHDR/releases/download/v1.0/'\n",
    "\n",
    "# load the reconstruction models\n",
    "reconstruction_models = load_reconstruction_models(DEVICE, model_root = weights_url)\n",
    "\n",
    "# run the pipeline\n",
    "reconstructed_results = intrinsic_hdr(decomp_models, reconstruction_models, img_lin)\n",
    "\n",
    "# get the result\n",
    "hdr = reconstructed_results['rgb_hdr']"
   ]
  },
  {
   "cell_type": "markdown",
   "metadata": {},
   "source": [
    "Apply Reinhard's tone mapper to display the image:"
   ]
  },
  {
   "cell_type": "code",
   "execution_count": null,
   "metadata": {},
   "outputs": [],
   "source": [
    "import numpy as np\n",
    "hdr_tm = tonemap(hdr*0.05/np.median(hdr)) # scale the HDR image to a reasonable range\n",
    "plt.figure(figsize=(16,9))\n",
    "plt.imshow(hdr_tm)\n",
    "plt.axis('off')"
   ]
  }
 ],
 "metadata": {
  "language_info": {
   "name": "python"
  }
 },
 "nbformat": 4,
 "nbformat_minor": 2
}
